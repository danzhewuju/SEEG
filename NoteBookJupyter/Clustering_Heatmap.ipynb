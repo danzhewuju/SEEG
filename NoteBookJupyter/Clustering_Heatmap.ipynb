{
 "cells": [
  {
   "cell_type": "code",
   "execution_count": null,
   "metadata": {
    "ExecuteTime": {
     "end_time": "2020-01-03T06:57:58.176975Z",
     "start_time": "2020-01-03T06:57:58.124705Z"
    },
    "pycharm": {
     "is_executing": true
    }
   },
   "outputs": [],
   "source": [
    "import os\n",
    "import numpy as np\n",
    "from dtw import dtw\n",
    "from tqdm import tqdm\n",
    "import pandas as pd\n",
    "import seaborn as sns\n",
    "from matplotlib import pyplot as plt"
   ]
  },
  {
   "cell_type": "code",
   "execution_count": null,
   "metadata": {
    "pycharm": {
     "is_executing": true
    }
   },
   "outputs": [],
   "source": [
    "def similarity_DTW(s1, s2):\n",
    "    ratio = 100 # 设定的放缩系数，避免数据的相似度过于集中\n",
    "    euclidean_norm = lambda x, y: np.abs(ratio * (x - y))\n",
    "    d, cost_matrix, acc_cost_matrix, path = dtw(s1, s2, dist=euclidean_norm)\n",
    "    score = 1 - np.tanh(d)  # 相似度的评分【0,1】 0： 完全不同， 1： 完全相同\n",
    "    return score\n",
    "\n",
    "print(\"Test\")"
   ]
  },
  {
   "cell_type": "markdown",
   "source": [
    "## 1. Cluster 的聚类结果"
   ],
   "metadata": {
    "collapsed": false,
    "pycharm": {
     "name": "#%% md\n",
     "is_executing": false
    }
   }
  },
  {
   "cell_type": "code",
   "execution_count": 5,
   "outputs": [
    {
     "ename": "FileNotFoundError",
     "evalue": "[Errno 2] No such file or directory: './processing/DBA_wave.pkl'",
     "output_type": "error",
     "traceback": [
      "\u001B[0;31m---------------------------------------------------------------------------\u001B[0m",
      "\u001B[0;31mFileNotFoundError\u001B[0m                         Traceback (most recent call last)",
      "\u001B[0;32m<ipython-input-5-b5275538846d>\u001B[0m in \u001B[0;36m<module>\u001B[0;34m\u001B[0m\n\u001B[0;32m----> 1\u001B[0;31m \u001B[0mDBA_cluster\u001B[0m \u001B[0;34m=\u001B[0m \u001B[0mnp\u001B[0m\u001B[0;34m.\u001B[0m\u001B[0mload\u001B[0m\u001B[0;34m(\u001B[0m\u001B[0;34m\"./processing/DBA_wave.pkl\"\u001B[0m\u001B[0;34m,\u001B[0m \u001B[0mallow_pickle\u001B[0m\u001B[0;34m=\u001B[0m\u001B[0;32mTrue\u001B[0m\u001B[0;34m)\u001B[0m\u001B[0;34m\u001B[0m\u001B[0;34m\u001B[0m\u001B[0m\n\u001B[0m\u001B[1;32m      2\u001B[0m \u001B[0mDBA_clustering_heatmap\u001B[0m \u001B[0;34m=\u001B[0m \u001B[0mnp\u001B[0m\u001B[0;34m.\u001B[0m\u001B[0mzeros\u001B[0m\u001B[0;34m(\u001B[0m\u001B[0;34m(\u001B[0m\u001B[0mlen\u001B[0m\u001B[0;34m(\u001B[0m\u001B[0mDBA_cluster\u001B[0m\u001B[0;34m)\u001B[0m\u001B[0;34m,\u001B[0m \u001B[0mlen\u001B[0m\u001B[0;34m(\u001B[0m\u001B[0mDBA_cluster\u001B[0m\u001B[0;34m)\u001B[0m\u001B[0;34m)\u001B[0m\u001B[0;34m)\u001B[0m\u001B[0;34m\u001B[0m\u001B[0;34m\u001B[0m\u001B[0m\n\u001B[1;32m      3\u001B[0m \u001B[0mid_list\u001B[0m \u001B[0;34m=\u001B[0m \u001B[0mlist\u001B[0m\u001B[0;34m(\u001B[0m\u001B[0mDBA_cluster\u001B[0m\u001B[0;34m.\u001B[0m\u001B[0mkeys\u001B[0m\u001B[0;34m(\u001B[0m\u001B[0;34m)\u001B[0m\u001B[0;34m)\u001B[0m\u001B[0;34m\u001B[0m\u001B[0;34m\u001B[0m\u001B[0m\n\u001B[1;32m      4\u001B[0m \u001B[0;32mfor\u001B[0m \u001B[0mi\u001B[0m\u001B[0;34m,\u001B[0m \u001B[0mid\u001B[0m \u001B[0;32min\u001B[0m \u001B[0menumerate\u001B[0m\u001B[0;34m(\u001B[0m\u001B[0mtqdm\u001B[0m\u001B[0;34m(\u001B[0m\u001B[0mid_list\u001B[0m\u001B[0;34m)\u001B[0m\u001B[0;34m)\u001B[0m\u001B[0;34m:\u001B[0m\u001B[0;34m\u001B[0m\u001B[0;34m\u001B[0m\u001B[0m\n\u001B[1;32m      5\u001B[0m     \u001B[0ms1\u001B[0m \u001B[0;34m=\u001B[0m \u001B[0mDBA_cluster\u001B[0m\u001B[0;34m[\u001B[0m\u001B[0mid\u001B[0m\u001B[0;34m]\u001B[0m\u001B[0;34m\u001B[0m\u001B[0;34m\u001B[0m\u001B[0m\n",
      "\u001B[0;32m~/.local/lib/python3.6/site-packages/numpy/lib/npyio.py\u001B[0m in \u001B[0;36mload\u001B[0;34m(file, mmap_mode, allow_pickle, fix_imports, encoding)\u001B[0m\n\u001B[1;32m    414\u001B[0m             \u001B[0mown_fid\u001B[0m \u001B[0;34m=\u001B[0m \u001B[0;32mFalse\u001B[0m\u001B[0;34m\u001B[0m\u001B[0;34m\u001B[0m\u001B[0m\n\u001B[1;32m    415\u001B[0m         \u001B[0;32melse\u001B[0m\u001B[0;34m:\u001B[0m\u001B[0;34m\u001B[0m\u001B[0;34m\u001B[0m\u001B[0m\n\u001B[0;32m--> 416\u001B[0;31m             \u001B[0mfid\u001B[0m \u001B[0;34m=\u001B[0m \u001B[0mstack\u001B[0m\u001B[0;34m.\u001B[0m\u001B[0menter_context\u001B[0m\u001B[0;34m(\u001B[0m\u001B[0mopen\u001B[0m\u001B[0;34m(\u001B[0m\u001B[0mos_fspath\u001B[0m\u001B[0;34m(\u001B[0m\u001B[0mfile\u001B[0m\u001B[0;34m)\u001B[0m\u001B[0;34m,\u001B[0m \u001B[0;34m\"rb\"\u001B[0m\u001B[0;34m)\u001B[0m\u001B[0;34m)\u001B[0m\u001B[0;34m\u001B[0m\u001B[0;34m\u001B[0m\u001B[0m\n\u001B[0m\u001B[1;32m    417\u001B[0m             \u001B[0mown_fid\u001B[0m \u001B[0;34m=\u001B[0m \u001B[0;32mTrue\u001B[0m\u001B[0;34m\u001B[0m\u001B[0;34m\u001B[0m\u001B[0m\n\u001B[1;32m    418\u001B[0m \u001B[0;34m\u001B[0m\u001B[0m\n",
      "\u001B[0;31mFileNotFoundError\u001B[0m: [Errno 2] No such file or directory: './processing/DBA_wave.pkl'"
     ]
    }
   ],
   "source": [
    "DBA_cluster = np.load(\"./processing/DBA_wave.pkl\", allow_pickle=True)\n",
    "DBA_clustering_heatmap = np.zeros((len(DBA_cluster), len(DBA_cluster)))\n",
    "id_list = list(DBA_cluster.keys())\n",
    "for i, id in enumerate(tqdm(id_list)):\n",
    "    s1 = DBA_cluster[id]\n",
    "    for j in range(0, i+1):\n",
    "        id_2 = id_list[j]\n",
    "        s2 = DBA_cluster[id_2]\n",
    "        score = similarity_DTW(s1, s2)\n",
    "        DBA_clustering_heatmap[i][j] = score\n",
    "        DBA_clustering_heatmap[j][i] = score\n",
    "data_frame = pd.DataFrame(DBA_clustering_heatmap)\n",
    "print(data_frame)\n",
    "\n",
    "print(id_list)\n",
    "cluster_id = [\"ClusterID{}\".format(x) for x in id_list]\n",
    "print(cluster_id)\n",
    "cluster_result = data_frame.rename(index=dict(zip(range(len(cluster_id)), cluster_id)), columns=dict(zip(range(len(cluster_id)), cluster_id)))\n",
    "print(cluster_result)\n",
    "# print(data_frame)\n",
    "\n",
    "# metric数据度量方法, method计算聚类的方法\n",
    "# standard_scale标准维度（0：行或1：列即每行或每列的含义，减去最小值并将每个维度除以其最大值）\n",
    "sns.clustermap(cluster_result)\n",
    "# Normalize 正则化\n",
    "# sns.clustermap(cluster_result, z_score=1)\n",
    "plt.savefig(\"./pdf/cluster_heatmap.pdf\")\n",
    "plt.show()"
   ],
   "metadata": {
    "collapsed": false,
    "pycharm": {
     "name": "#%%\n"
    }
   }
  },
  {
   "cell_type": "markdown",
   "source": [
    "## 2.选择top-10作为cluster谱聚类的结果"
   ],
   "metadata": {
    "collapsed": false,
    "pycharm": {
     "name": "#%% md\n"
    }
   }
  },
  {
   "cell_type": "code",
   "execution_count": 5,
   "outputs": [
    {
     "name": "stdout",
     "text": [
      "          0         1         2         3         4         5         6   \\\n",
      "0   1.000000  0.819568  0.784662  0.735119  0.822707  0.762324  0.778819   \n",
      "1   0.819568  1.000000  0.800209  0.796791  0.836836  0.791363  0.732250   \n",
      "2   0.784662  0.800209  1.000000  0.856460  0.910801  0.856906  0.846494   \n",
      "3   0.735119  0.796791  0.856460  1.000000  0.841369  0.891513  0.781899   \n",
      "4   0.822707  0.836836  0.910801  0.841369  1.000000  0.832287  0.799139   \n",
      "5   0.762324  0.791363  0.856906  0.891513  0.832287  1.000000  0.821936   \n",
      "6   0.778819  0.732250  0.846494  0.781899  0.799139  0.821936  1.000000   \n",
      "7   0.747826  0.791026  0.870978  0.823055  0.835635  0.826645  0.749881   \n",
      "8   0.801596  0.773296  0.892216  0.861190  0.831098  0.830420  0.827351   \n",
      "9   0.762544  0.773342  0.839620  0.849434  0.832049  0.834022  0.818345   \n",
      "10  0.642714  0.618779  0.828197  0.745540  0.766758  0.664217  0.632287   \n",
      "11  0.618761  0.625805  0.788779  0.725807  0.722970  0.601644  0.615687   \n",
      "12  0.589803  0.646334  0.827008  0.762574  0.764792  0.672535  0.615516   \n",
      "13  0.577769  0.614030  0.812006  0.755815  0.758116  0.643373  0.592689   \n",
      "14  0.677907  0.630223  0.773028  0.720979  0.762867  0.584484  0.597947   \n",
      "15  0.556399  0.627259  0.772287  0.703819  0.704637  0.588593  0.552927   \n",
      "16  0.553812  0.604710  0.779941  0.698704  0.702836  0.606042  0.564922   \n",
      "17  0.571638  0.623076  0.773250  0.701793  0.709002  0.577982  0.578234   \n",
      "18  0.555717  0.630315  0.779290  0.716129  0.702739  0.640309  0.599067   \n",
      "19  0.573213  0.638290  0.798581  0.728901  0.724464  0.643419  0.592744   \n",
      "20  0.643026  0.533481  0.545908  0.557827  0.627983  0.489108  0.386787   \n",
      "21  0.754741  0.620714  0.677606  0.625394  0.718820  0.527177  0.526303   \n",
      "22  0.740160  0.621644  0.667738  0.649878  0.709232  0.569392  0.407369   \n",
      "23  0.729476  0.520748  0.536524  0.548683  0.648524  0.456387  0.438540   \n",
      "24  0.800230  0.739536  0.759771  0.738904  0.802615  0.629450  0.581278   \n",
      "25  0.691826  0.554689  0.658817  0.649722  0.668618  0.511672  0.378408   \n",
      "26  0.774783  0.684765  0.790632  0.702500  0.787170  0.616033  0.685657   \n",
      "27  0.554980  0.548703  0.545912  0.527362  0.601036  0.498901  0.421070   \n",
      "28  0.717639  0.571942  0.621617  0.529552  0.679320  0.454210  0.567365   \n",
      "29  0.612187  0.472093  0.554443  0.560472  0.548926  0.468538  0.312319   \n",
      "30  0.645080  0.501308  0.709935  0.706585  0.612878  0.634902  0.650314   \n",
      "31  0.609056  0.590778  0.731108  0.717579  0.677024  0.583899  0.542849   \n",
      "32  0.645129  0.558388  0.601727  0.606362  0.657776  0.425577  0.438944   \n",
      "33  0.641394  0.522536  0.660982  0.648379  0.686612  0.488374  0.491790   \n",
      "34  0.651337  0.586208  0.755441  0.721023  0.767429  0.555908  0.518647   \n",
      "35  0.637505  0.563694  0.783446  0.720487  0.728394  0.549914  0.533841   \n",
      "36  0.518737  0.428275  0.565035  0.546044  0.568176  0.391677  0.392210   \n",
      "37  0.540385  0.463165  0.629013  0.650940  0.547161  0.510239  0.538113   \n",
      "38  0.600298  0.493867  0.682037  0.688142  0.620733  0.509396  0.496286   \n",
      "39  0.614002  0.507651  0.749622  0.706318  0.664874  0.568479  0.600754   \n",
      "40  0.628461  0.493374  0.716936  0.587473  0.688842  0.560768  0.700781   \n",
      "41  0.680827  0.666031  0.868284  0.784121  0.829619  0.777936  0.825001   \n",
      "42  0.728279  0.627928  0.829602  0.721667  0.763078  0.669543  0.783237   \n",
      "43  0.680863  0.644174  0.887300  0.798025  0.847470  0.735846  0.752656   \n",
      "44  0.675452  0.586852  0.806916  0.718949  0.777886  0.662579  0.752992   \n",
      "45  0.706032  0.543944  0.705844  0.618022  0.694561  0.577609  0.693731   \n",
      "46  0.614125  0.507667  0.730924  0.656335  0.677819  0.600946  0.723506   \n",
      "47  0.716896  0.550573  0.711032  0.637091  0.716068  0.574922  0.732946   \n",
      "48  0.682394  0.510237  0.706971  0.623467  0.664352  0.567818  0.771021   \n",
      "49  0.608345  0.553734  0.768074  0.687734  0.747180  0.655500  0.719636   \n",
      "\n",
      "          7         8         9   ...        40        41        42        43  \\\n",
      "0   0.747826  0.801596  0.762544  ...  0.628461  0.680827  0.728279  0.680863   \n",
      "1   0.791026  0.773296  0.773342  ...  0.493374  0.666031  0.627928  0.644174   \n",
      "2   0.870978  0.892216  0.839620  ...  0.716936  0.868284  0.829602  0.887300   \n",
      "3   0.823055  0.861190  0.849434  ...  0.587473  0.784121  0.721667  0.798025   \n",
      "4   0.835635  0.831098  0.832049  ...  0.688842  0.829619  0.763078  0.847470   \n",
      "5   0.826645  0.830420  0.834022  ...  0.560768  0.777936  0.669543  0.735846   \n",
      "6   0.749881  0.827351  0.818345  ...  0.700781  0.825001  0.783237  0.752656   \n",
      "7   1.000000  0.803974  0.798635  ...  0.708680  0.743078  0.803048  0.843470   \n",
      "8   0.803974  1.000000  0.829329  ...  0.650589  0.774590  0.797892  0.780196   \n",
      "9   0.798635  0.829329  1.000000  ...  0.645094  0.787541  0.752883  0.796859   \n",
      "10  0.741250  0.785454  0.696087  ...  0.704650  0.722937  0.785751  0.802094   \n",
      "11  0.732352  0.821848  0.680292  ...  0.637049  0.707496  0.745704  0.763504   \n",
      "12  0.765325  0.808287  0.708194  ...  0.659714  0.713084  0.770084  0.758808   \n",
      "13  0.733527  0.790223  0.699516  ...  0.634417  0.707789  0.739678  0.758151   \n",
      "14  0.740480  0.796211  0.678105  ...  0.673916  0.736624  0.749635  0.807670   \n",
      "15  0.691331  0.782407  0.663266  ...  0.581484  0.648738  0.696675  0.704550   \n",
      "16  0.707174  0.763072  0.664377  ...  0.613905  0.673094  0.737800  0.709387   \n",
      "17  0.690260  0.796037  0.654216  ...  0.597112  0.644168  0.714056  0.712695   \n",
      "18  0.722380  0.778375  0.666983  ...  0.612630  0.683910  0.740634  0.728140   \n",
      "19  0.746114  0.767442  0.678271  ...  0.659440  0.703363  0.767867  0.760677   \n",
      "20  0.550686  0.544641  0.541386  ...  0.454226  0.520602  0.462145  0.555481   \n",
      "21  0.640158  0.668403  0.613830  ...  0.630379  0.596198  0.682580  0.627237   \n",
      "22  0.602032  0.594475  0.614694  ...  0.476633  0.586019  0.501954  0.652687   \n",
      "23  0.561833  0.582507  0.521630  ...  0.534178  0.527840  0.545680  0.574950   \n",
      "24  0.712242  0.736240  0.708159  ...  0.540102  0.643833  0.680065  0.692442   \n",
      "25  0.573377  0.551299  0.632647  ...  0.543267  0.599460  0.529359  0.671121   \n",
      "26  0.739089  0.791576  0.729987  ...  0.691383  0.643489  0.824966  0.735648   \n",
      "27  0.571594  0.486924  0.512864  ...  0.449571  0.505623  0.478731  0.543376   \n",
      "28  0.617637  0.633897  0.547771  ...  0.687170  0.566576  0.666224  0.633297   \n",
      "29  0.534186  0.436815  0.556574  ...  0.449558  0.516548  0.435345  0.561188   \n",
      "30  0.597281  0.737755  0.742177  ...  0.648643  0.632899  0.711594  0.615939   \n",
      "31  0.607861  0.666790  0.708311  ...  0.591846  0.615800  0.647693  0.675464   \n",
      "32  0.471946  0.529682  0.602770  ...  0.508240  0.501647  0.574165  0.586182   \n",
      "33  0.545810  0.626230  0.606217  ...  0.573300  0.546669  0.628466  0.607927   \n",
      "34  0.632374  0.698257  0.708886  ...  0.565594  0.635810  0.691567  0.652226   \n",
      "35  0.658896  0.694374  0.742356  ...  0.639801  0.671249  0.749592  0.710635   \n",
      "36  0.448055  0.498419  0.529404  ...  0.502128  0.465116  0.574602  0.513355   \n",
      "37  0.532191  0.625462  0.651634  ...  0.588147  0.564859  0.625010  0.613120   \n",
      "38  0.545081  0.619112  0.661858  ...  0.583746  0.568620  0.645797  0.585308   \n",
      "39  0.634727  0.750937  0.697673  ...  0.696296  0.666885  0.802129  0.696133   \n",
      "40  0.708680  0.650589  0.645094  ...  1.000000  0.796378  0.849750  0.791852   \n",
      "41  0.743078  0.774590  0.787541  ...  0.796378  1.000000  0.843435  0.862926   \n",
      "42  0.803048  0.797892  0.752883  ...  0.849750  0.843435  1.000000  0.819855   \n",
      "43  0.843470  0.780196  0.796859  ...  0.791852  0.862926  0.819855  1.000000   \n",
      "44  0.701953  0.744060  0.711498  ...  0.868785  0.839182  0.893794  0.834597   \n",
      "45  0.674017  0.726978  0.622392  ...  0.821167  0.687502  0.786534  0.769215   \n",
      "46  0.635406  0.690978  0.675170  ...  0.838778  0.809680  0.859225  0.767034   \n",
      "47  0.650861  0.724056  0.662645  ...  0.842599  0.794958  0.829140  0.764951   \n",
      "48  0.642552  0.701177  0.667822  ...  0.814311  0.713621  0.814095  0.756694   \n",
      "49  0.692829  0.692079  0.713512  ...  0.783194  0.853623  0.844008  0.806211   \n",
      "\n",
      "          44        45        46        47        48        49  \n",
      "0   0.675452  0.706032  0.614125  0.716896  0.682394  0.608345  \n",
      "1   0.586852  0.543944  0.507667  0.550573  0.510237  0.553734  \n",
      "2   0.806916  0.705844  0.730924  0.711032  0.706971  0.768074  \n",
      "3   0.718949  0.618022  0.656335  0.637091  0.623467  0.687734  \n",
      "4   0.777886  0.694561  0.677819  0.716068  0.664352  0.747180  \n",
      "5   0.662579  0.577609  0.600946  0.574922  0.567818  0.655500  \n",
      "6   0.752992  0.693731  0.723506  0.732946  0.771021  0.719636  \n",
      "7   0.701953  0.674017  0.635406  0.650861  0.642552  0.692829  \n",
      "8   0.744060  0.726978  0.690978  0.724056  0.701177  0.692079  \n",
      "9   0.711498  0.622392  0.675170  0.662645  0.667822  0.713512  \n",
      "10  0.807128  0.665335  0.703222  0.695860  0.645001  0.712363  \n",
      "11  0.789569  0.644985  0.699812  0.674507  0.602568  0.710874  \n",
      "12  0.789064  0.571948  0.685242  0.624291  0.567262  0.707742  \n",
      "13  0.762893  0.581738  0.661795  0.614630  0.564248  0.690153  \n",
      "14  0.779935  0.653884  0.699734  0.689060  0.608268  0.703877  \n",
      "15  0.710628  0.564989  0.632444  0.591292  0.531212  0.652909  \n",
      "16  0.749029  0.577891  0.656587  0.600106  0.529626  0.687643  \n",
      "17  0.727392  0.591358  0.645734  0.611905  0.551857  0.660154  \n",
      "18  0.753389  0.600541  0.669584  0.619354  0.555987  0.699976  \n",
      "19  0.792919  0.637579  0.705275  0.683077  0.622949  0.720514  \n",
      "20  0.467522  0.589904  0.507417  0.507236  0.520163  0.475935  \n",
      "21  0.569846  0.694781  0.527921  0.664666  0.616847  0.512095  \n",
      "22  0.512995  0.592134  0.542229  0.494318  0.502826  0.500358  \n",
      "23  0.502054  0.648160  0.498754  0.584413  0.567962  0.435066  \n",
      "24  0.560945  0.636422  0.533708  0.595226  0.570653  0.513917  \n",
      "25  0.510730  0.546330  0.465899  0.479049  0.490462  0.452284  \n",
      "26  0.735119  0.718765  0.688353  0.691467  0.694113  0.692566  \n",
      "27  0.442149  0.592668  0.494025  0.516940  0.580862  0.487475  \n",
      "28  0.641625  0.790919  0.598423  0.758311  0.688979  0.612250  \n",
      "29  0.414527  0.475947  0.455356  0.377587  0.418914  0.399058  \n",
      "30  0.676640  0.618210  0.663686  0.666256  0.664517  0.510986  \n",
      "31  0.603303  0.507696  0.558999  0.559576  0.530335  0.493698  \n",
      "32  0.476536  0.406884  0.428502  0.448340  0.411213  0.384021  \n",
      "33  0.593859  0.501041  0.531818  0.543481  0.459597  0.501865  \n",
      "34  0.652882  0.512871  0.613914  0.529138  0.515221  0.568788  \n",
      "35  0.685309  0.530540  0.633189  0.569093  0.530901  0.575178  \n",
      "36  0.498600  0.383036  0.438112  0.427040  0.387331  0.392328  \n",
      "37  0.603271  0.548767  0.612258  0.590104  0.594647  0.491810  \n",
      "38  0.583491  0.509736  0.540295  0.566452  0.499171  0.420884  \n",
      "39  0.748039  0.591000  0.711711  0.631107  0.622156  0.598076  \n",
      "40  0.868785  0.821167  0.838778  0.842599  0.814311  0.783194  \n",
      "41  0.839182  0.687502  0.809680  0.794958  0.713621  0.853623  \n",
      "42  0.893794  0.786534  0.859225  0.829140  0.814095  0.844008  \n",
      "43  0.834597  0.769215  0.767034  0.764951  0.756694  0.806211  \n",
      "44  1.000000  0.802979  0.885624  0.895505  0.813689  0.851416  \n",
      "45  0.802979  1.000000  0.755796  0.913742  0.856476  0.747561  \n",
      "46  0.885624  0.755796  1.000000  0.829977  0.820348  0.834614  \n",
      "47  0.895505  0.913742  0.829977  1.000000  0.871751  0.814100  \n",
      "48  0.813689  0.856476  0.820348  0.871751  1.000000  0.728753  \n",
      "49  0.851416  0.747561  0.834614  0.814100  0.728753  1.000000  \n",
      "\n",
      "[50 rows x 50 columns]\n",
      "['Signal-0', 'Signal-1', 'Signal-2', 'Signal-3', 'Signal-4', 'Signal-5', 'Signal-6', 'Signal-7', 'Signal-8', 'Signal-9', 'Signal-10', 'Signal-11', 'Signal-12', 'Signal-13', 'Signal-14', 'Signal-15', 'Signal-16', 'Signal-17', 'Signal-18', 'Signal-19', 'Signal-20', 'Signal-21', 'Signal-22', 'Signal-23', 'Signal-24', 'Signal-25', 'Signal-26', 'Signal-27', 'Signal-28', 'Signal-29', 'Signal-30', 'Signal-31', 'Signal-32', 'Signal-33', 'Signal-34', 'Signal-35', 'Signal-36', 'Signal-37', 'Signal-38', 'Signal-39', 'Signal-40', 'Signal-41', 'Signal-42', 'Signal-43', 'Signal-44', 'Signal-45', 'Signal-46', 'Signal-47', 'Signal-48', 'Signal-49']\n"
     ],
     "output_type": "stream"
    },
    {
     "data": {
      "text/plain": "<Figure size 720x720 with 4 Axes>",
      "image/png": "[encoded data removed]"
     },
     "metadata": {
      "needs_background": "light"
     },
     "output_type": "display_data"
    }
   ],
   "source": [
    "top_cluster_wave_path = \"./processing/top_cluater_wave__fid_data.pkl\"\n",
    "wave_clusters_id_feature_data_path = \"./processing/wave_clusters_id_feature_data.pkl\"\n",
    "\n",
    "top_cluster_wave = np.load(top_cluster_wave_path, allow_pickle=True)\n",
    "wave_cluster_wave = np.load(wave_clusters_id_feature_data_path, allow_pickle=True)\n",
    "# print(wave_cluster_wave)\n",
    "# print(top_cluster_wave)\n",
    "cluster_id_list = top_cluster_wave.keys()\n",
    "feature_ids = []\n",
    "for c_id in cluster_id_list:\n",
    "    for f_id, _score in top_cluster_wave[c_id]:\n",
    "        _tmp_data = wave_cluster_wave[c_id]\n",
    "        _data, _ids = zip(*_tmp_data)\n",
    "        fid_data_dict = dict(zip(_ids, _data))\n",
    "        data = fid_data_dict[f_id]\n",
    "        feature_ids.append((data, c_id))\n",
    "\n",
    "# print(feature_ids)\n",
    "\n",
    "length = len(feature_ids)\n",
    "heat_map = np.zeros((length, length))\n",
    "for i in range(length):\n",
    "    s1, c_id_a = feature_ids[i]\n",
    "    for j in range(0, i+1):\n",
    "        s2, c_id_2 = feature_ids[j] \n",
    "        score = similarity_DTW(s1, s2)\n",
    "        heat_map[i][j] = score\n",
    "        heat_map[j][i] = score    \n",
    "\n",
    "data_frame = pd.DataFrame(heat_map)\n",
    "print(data_frame)\n",
    "# 命名的差异\n",
    "# cluster_id = []\n",
    "# cluster_count = {}\n",
    "# for _, c_id in feature_ids:\n",
    "#     if c_id not in cluster_count.keys():\n",
    "#         cluster_count[c_id] = 0\n",
    "#     name = \"ClusterID{}_{}\".format(c_id, cluster_count[c_id])\n",
    "#     cluster_count[c_id] += 1\n",
    "#     cluster_id.append(name)\n",
    "cluster_id = []\n",
    "for x in range(0, length):\n",
    "    cluster_id.append(\"Signal-{}\".format(x))\n",
    "print(cluster_id)\n",
    "cluster_result = data_frame.rename(index=dict(zip(range(len(cluster_id)), cluster_id)), columns=dict(zip(range(len(cluster_id)), cluster_id)))\n",
    "# print(cluster_result)\n",
    "# print(data_frame)\n",
    "\n",
    "# metric数据度量方法, method计算聚类的方法\n",
    "# standard_scale标准维度（0：行或1：列即每行或每列的含义，减去最小值并将每个维度除以其最大值）\n",
    "sns.clustermap(cluster_result, vmin = 0.0, vmax=1.0,cbar_kws={\"ticks\":[0.3,1]})\n",
    "# Normalize 正则化\n",
    "# sns.clustermap(cluster_result, z_score=1)\n",
    "plt.savefig(\"./pdf/cluster_heatmap_top.pdf\")\n",
    "plt.show()\n",
    "\n"
   ],
   "metadata": {
    "collapsed": false,
    "pycharm": {
     "name": "#%%\n",
     "is_executing": false
    }
   }
  }
 ],
 "metadata": {
  "kernelspec": {
   "display_name": "ching",
   "language": "python",
   "name": "ching"
  },
  "language_info": {
   "codemirror_mode": {
    "name": "ipython",
    "version": 3
   },
   "file_extension": ".py",
   "mimetype": "text/x-python",
   "name": "python",
   "nbconvert_exporter": "python",
   "pygments_lexer": "ipython3",
   "version": "3.6.9"
  },
  "latex_envs": {
   "LaTeX_envs_menu_present": true,
   "autoclose": false,
   "autocomplete": true,
   "bibliofile": "biblio.bib",
   "cite_by": "apalike",
   "current_citInitial": 1,
   "eqLabelWithNumbers": true,
   "eqNumInitial": 1,
   "hotkeys": {
    "equation": "ctrl-shift-e"
   },
   "labels_anchors": false,
   "latex_user_defs": false,
   "report_style_numbering": false,
   "user_envs_cfg": false
  },
  "toc": {
   "base_numbering": 1,
   "nav_menu": {},
   "number_sections": true,
   "sideBar": true,
   "skip_h1_title": false,
   "title_cell": "Table of Contents",
   "title_sidebar": "Contents",
   "toc_cell": false,
   "toc_position": {},
   "toc_section_display": true,
   "toc_window_display": false
  }
 },
 "nbformat": 4,
 "nbformat_minor": 1
}